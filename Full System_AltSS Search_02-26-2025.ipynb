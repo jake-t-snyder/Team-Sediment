{
 "cells": [
  {
   "cell_type": "code",
   "execution_count": 120,
   "id": "7147faa0",
   "metadata": {},
   "outputs": [],
   "source": [
    "import numpy as np\n",
    "import pandas as pd\n",
    "import math\n",
    "import matplotlib\n",
    "import matplotlib.pyplot as plt\n",
    "from matplotlib import rc\n",
    "import seaborn as sns\n",
    "from scipy import stats\n",
    "from scipy.optimize import curve_fit\n",
    "from scipy.integrate import odeint\n",
    "from scipy.integrate import solve_ivp\n",
    "import time"
   ]
  },
  {
   "cell_type": "markdown",
   "id": "548b310d",
   "metadata": {},
   "source": [
    "# Directions for use:\n",
    "    \n",
    "1. Specify benthic conditions **(AltSS, MacroDom, CoralDom)** in code block 3\n",
    "2. Use **AltSS_finder function** to add one, two, or three fish to system"
   ]
  },
  {
   "cell_type": "markdown",
   "id": "fc3a1600",
   "metadata": {},
   "source": [
    "## ODE System"
   ]
  },
  {
   "cell_type": "code",
   "execution_count": 121,
   "id": "d54cb002",
   "metadata": {},
   "outputs": [],
   "source": [
    "def dNdt(t, N, rC, rM, rT, αCT, αMT, αMC, μC, μM, μT, #benthos\n",
    "         hB, nB, sB, σB, θB, eB, pB,                  #browsers\n",
    "         hG, nG, sG, σG, θG, eG, pG,                  #grazers\n",
    "         hS, nS, sS, σS, θS, eS, pS):                 #scrapers\n",
    "    \n",
    "    C,M,T,B,G,S = N\n",
    "    \n",
    "    dC = (rC*C*(1-C-M-T) + αCT*rC*C*T - αMC*rM*C*M - μC*C)*dt\n",
    "    dM = (rM*M*(1-C-M-T) + αMT*rM*T*M + αMC*rM*C*M - μM*M - ((hB*B*M)/((hB*nB*M)+1)))*dt\n",
    "    dT = (rT*T*(1-C-M-T) - αCT*rC*C*T - αMT*rM*T*M - μT*T - ((hG*G*T)/((hG*nG*T)+1)) - ((hS*S*T)/((hS*nS*T)+1)))*dt\n",
    "    \n",
    "    dB = (sB*B*(1-(B/((1-σB)+(σB*C)))) + θB*B - eB*B - pB*B)*dt\n",
    "    dG = (sG*G*(1-(G/((1-σG)+(σG*C)))) + θG*G - eG*G - pG*G)*dt\n",
    "    dS = (sS*S*(1-(S/((1-σS)+(σS*C)))) + θS*G - eS*G - pS*G)*dt\n",
    "\n",
    "    return dC, dM, dT, dB, dG, dS"
   ]
  },
  {
   "cell_type": "markdown",
   "id": "098160d3",
   "metadata": {},
   "source": [
    "## Initializing Benthos and Timesteps\n",
    "\n",
    "1. Comment out conditions **NOT** being tested"
   ]
  },
  {
   "cell_type": "code",
   "execution_count": 122,
   "id": "0b5a5e48",
   "metadata": {},
   "outputs": [],
   "source": [
    "μM_MacroDom_11 = 0.11\n",
    "μM_AltSS_12 = 0.12\n",
    "μM_CoralDom_13 = 0.13\n",
    "\n",
    "#Macroalgae Dominant------------------------------\n",
    "#rC, rM, rT, αCT, αMT, αMC, μC, μM, μT = 0.2, 0.35, 5, 0.25, 0.9, 0.1, 0.05, μM_MacroDom_11, 10\n",
    "\n",
    "#Alternative Stable States------------------------\n",
    "rC, rM, rT, αCT, αMT, αMC, μC, μM, μT = 0.2, 0.35, 5, 0.25, 0.9, 0.1, 0.05, μM_AltSS_12, 10\n",
    "\n",
    "#Coral Dominant-----------------------------------\n",
    "#rC, rM, rT, αCT, αMT, αMC, μC, μM, μT = 0.2, 0.35, 5, 0.25, 0.9, 0.1, 0.05, μM_CoralDom_13, 10\n"
   ]
  },
  {
   "cell_type": "code",
   "execution_count": 123,
   "id": "7c58a21f",
   "metadata": {},
   "outputs": [],
   "source": [
    "dt = 1\n",
    "NUMSTEPS = 5000\n",
    "NUMYEARS = int(NUMSTEPS/dt)\n",
    "time_points = np.linspace(0, NUMYEARS, NUMSTEPS+1)\n",
    "\n",
    "h_val = np.linspace(0,1,11)\n",
    "B0, G0, S0 = 0.1, 0.1, 0.1"
   ]
  },
  {
   "cell_type": "markdown",
   "id": "69b8c992",
   "metadata": {},
   "source": [
    "## Function to find AltSS at increasing rates of h (herbivory rate)"
   ]
  },
  {
   "cell_type": "code",
   "execution_count": 124,
   "id": "4000d8a6",
   "metadata": {},
   "outputs": [],
   "source": [
    "def AltSS_finder(scenario): \n",
    "    \n",
    "    outputs = []\n",
    "    outputs_prime = []\n",
    "    \n",
    "    for h in h_val:\n",
    "        print ('h='+str(h))\n",
    "        \n",
    "        for C0 in np.linspace(0.01,1,11):\n",
    "            print ('C0='+str(C0))\n",
    "\n",
    "            for M0 in np.linspace(0.01,1,11):\n",
    "\n",
    "                for T0 in np.linspace(0.01,1,11):\n",
    "\n",
    "                    if (C0 + M0 + T0 <= 1):\n",
    "    \n",
    "                        #Baseline Benthos (No Herbivores)------------------------------\n",
    "                        if scenario == 'baselinebenthos':\n",
    "                            hB, nB, sB, σB, θB, eB, pB = 0, 0, 0, 0, 0, 0, 0\n",
    "                            hG, nG, sG, σG, θG, eG, pG = 0, 0, 0, 0, 0, 0, 0\n",
    "                            hS, nS, sS, σS, θS, eS, pS = 0, 0, 0, 0, 0, 0, 0\n",
    "\n",
    "                        #Browsers-----------------------------------------------------\n",
    "                        elif scenario == 'browser':\n",
    "                            hB, nB, sB, σB, θB, eB, pB = h, 1, 0.1, 1, 0, 0, 0.05\n",
    "                            hG, nG, sG, σG, θG, eG, pG = 0, 0, 0, 0, 0, 0, 0\n",
    "                            hS, nS, sS, σS, θS, eS, pS = 0, 0, 0, 0, 0, 0, 0\n",
    "\n",
    "                        #Grazers-----------------------------------------------------\n",
    "                        elif scenario == 'grazer':\n",
    "                            hG, nG, sG, σG, θG, eG, pG = h, 1, 0.2, 1, 0, 0, 0.05\n",
    "                            hB, nB, sB, σB, θB, eB, pB = 0, 0, 0, 0, 0, 0, 0\n",
    "                            hS, nS, sS, σS, θS, eS, pS = 0, 0, 0, 0, 0, 0, 0\n",
    "\n",
    "                        #Scrapers-----------------------------------------------------\n",
    "                        elif scenario == 'scraper':\n",
    "                            hS, nS, sS, σS, θS, eS, pS = h, 1, 0.5, 1, 0, 0, 0.05\n",
    "                            hB, nB, sB, σB, θB, eB, pB = 0, 0, 0, 0, 0, 0, 0\n",
    "                            hG, nG, sG, σG, θG, eG, pG = 0, 0, 0, 0, 0, 0, 0\n",
    "\n",
    "                        #Browsers & Grazers-------------------------------------------\n",
    "                        elif scenario == 'browser_grazer':\n",
    "                            hB, nB, sB, σB, θB, eB, pB = h, 1, 0.1, 1, 0, 0, 0.05\n",
    "                            hG, nG, sG, σG, θG, eG, pG = h, 1, 0.2, 1, 0, 0, 0.05\n",
    "                            hS, nS, sS, σS, θS, eS, pS = 0, 0, 0, 0, 0, 0, 0\n",
    "\n",
    "                        #Browsers & Scrapers------------------------------------------\n",
    "                        elif scenario == 'browser_scraper':\n",
    "                            hB, nB, sB, σB, θB, eB, pB = h, 1, 0.1, 1, 0, 0, 0.05\n",
    "                            hS, nS, sS, σS, θS, eS, pS = h, 1, 0.5, 1, 0, 0, 0.05\n",
    "                            hG, nG, sG, σG, θG, eG, pG = 0, 0, 0, 0, 0, 0, 0\n",
    "\n",
    "                        #Grazers & Scrapers------------------------------------------\n",
    "                        elif scenario == 'grazer_scraper':\n",
    "                            hG, nG, sG, σG, θG, eG, pG = h, 1, 0.2, 1, 0, 0, 0.05\n",
    "                            hS, nS, sS, σS, θS, eS, pS = h, 1, 0.5, 1, 0, 0, 0.05\n",
    "                            hB, nB, sB, σB, θB, eB, pB = 0, 0, 0, 0, 0, 0, 0\n",
    "\n",
    "                        #Browsers, Grazers, & Scrapers--------------------------------\n",
    "                        elif scenario == 'all_herbivores':\n",
    "                            hB, nB, sB, σB, θB, eB, pB = h, 1, 0.1, 1, 0, 0, 0.05\n",
    "                            hG, nG, sG, σG, θG, eG, pG = h, 1, 0.2, 1, 0, 0, 0.05\n",
    "                            hS, nS, sS, σS, θS, eS, pS = h, 1, 0.5, 1, 0, 0, 0.05\n",
    "       \n",
    "\n",
    "                        sol = solve_ivp(dNdt, [0,NUMYEARS], [C0, M0, T0, B0, G0, S0], \n",
    "                                        method = 'RK45', args = \n",
    "                                        (rC, rM, rT, αCT, αMT, αMC, μC, μM, μT,                              #benthos\n",
    "                                        hB, nB, sB, σB, θB, eB, pB,                                          #browsers\n",
    "                                        hG, nG, sG, σG, θG, eG, pG,                                          #grazers\n",
    "                                        hS, nS, sS, σS, θS, eS, pS),                                         #scrapers\n",
    "                                        dense_output=True)\n",
    "\n",
    "                        N = sol.sol(time_points)\n",
    "\n",
    "                        C_array = N[0,:]\n",
    "                        M_array = N[1,:]\n",
    "                        T_array = N[2,:]\n",
    "                        B_array = N[3,:]\n",
    "                        G_array = N[4,:]\n",
    "                        S_array = N[5,:]\n",
    "\n",
    "                        outputs.append((rC, rM, rT, αCT, αMT, αMC, μC, μM, μT,                              #benthos\n",
    "                                        hB, nB, sB, σB, θB, eB, pB,                                         #browsers\n",
    "                                        hG, nG, sG, σG, θG, eG, pG,                                         #grazers\n",
    "                                        hS, nS, sS, σS, θS, eS, pS,                                         #scrapers\n",
    "                                        C_array, M_array, T_array, B_array, G_array, S_array))\n",
    "                            \n",
    "                        outputs_prime.append((rC, rM, rT, αCT, αMT, αMC, μC, μM, μT,                        #benthos\n",
    "                                        hB, nB, sB, σB, θB, eB, pB,                                         #browsers\n",
    "                                        hG, nG, sG, σG, θG, eG, pG,                                         #grazers\n",
    "                                        hS, nS, sS, σS, θS, eS, pS,                                         #scrapers\n",
    "                                        C_array[-1], M_array[-1], T_array[-1], B_array[-1], G_array[-1], S_array[-1]))\n",
    "\n",
    "    df_timeseries = pd.DataFrame(outputs, columns=['rC', 'rM', 'rT', 'αCT', 'αMT', 'αMC', 'μC', 'μM', 'μT', #benthos\n",
    "                                        'hB', 'nB', 'sB', 'σB', 'θB', 'eB', 'pB',                           #browsers\n",
    "                                        'hG', 'nG', 'sG', 'σG', 'θG', 'eG', 'pG',                           #grazers\n",
    "                                        'hS', 'nS', 'sS', 'σS', 'θS', 'eS', 'pS',                           #scrapers\n",
    "                                        'C_array', 'M_array', 'T_array', 'B_array', 'G_array', 'S_array'])\n",
    "    \n",
    "    \n",
    "    df_prime = pd.DataFrame(outputs_prime, columns=['rC', 'rM', 'rT', 'αCT', 'αMT', 'αMC', 'μC', 'μM', 'μT', #benthos\n",
    "                                        'hB', 'nB', 'sB', 'σB', 'θB', 'eB', 'pB',                            #browsers\n",
    "                                        'hG', 'nG', 'sG', 'σG', 'θG', 'eG', 'pG',                            #grazers\n",
    "                                        'hS', 'nS', 'sS', 'σS', 'θS', 'eS', 'pS',                            #scrapers\n",
    "                                        'C_prime', 'M_prime', 'T_prime', 'B_prime', 'G_prime', 'S_prime'])\n",
    "    \n",
    "    return(df_timeseries, df_prime)"
   ]
  },
  {
   "cell_type": "markdown",
   "id": "4d9dab27",
   "metadata": {},
   "source": [
    "# Running Function\n",
    "1. Specify which **scenario (i.e. which herbivores are included)** and **save as pickle file**"
   ]
  },
  {
   "cell_type": "markdown",
   "id": "5ad6f794",
   "metadata": {},
   "source": [
    "## Browser\n",
    "#### AltSS (μM=12)"
   ]
  },
  {
   "cell_type": "code",
   "execution_count": null,
   "id": "e176df6a",
   "metadata": {},
   "outputs": [
    {
     "name": "stdout",
     "output_type": "stream",
     "text": [
      "h=0.0\n",
      "C0=0.01\n",
      "C0=0.109\n",
      "C0=0.20800000000000002\n"
     ]
    }
   ],
   "source": [
    "start_time = time.perf_counter()\n",
    "\n",
    "Browsers_AltSS_μM12_hB0to1_030125  = AltSS_finder(scenario = 'browser')\n",
    "\n",
    "Browsers_AltSS_μM12_hB0to1_030125[0].to_pickle('/Users/gails/Desktop/Team Sediment/Chapter 1 - Theory/Current Analyses/timeseries_Browsers_AltSS_μM12_hB0to1_030125')\n",
    "Browsers_AltSS_μM12_hB0to1_030125[1].to_pickle('/Users/gails/Desktop/Team Sediment/Chapter 1 - Theory/Current Analyses/equilibria_Browsers_AltSS_μM12_hB0to1_030125')\n",
    "\n",
    "end_time = time.perf_counter()\n",
    "(end_time - start_time)/60"
   ]
  },
  {
   "cell_type": "markdown",
   "id": "26b45dca",
   "metadata": {},
   "source": [
    "#### MacroDom (μM=11)"
   ]
  },
  {
   "cell_type": "code",
   "execution_count": null,
   "id": "30636ca0",
   "metadata": {},
   "outputs": [],
   "source": [
    "start_time = time.perf_counter()\n",
    "\n",
    "Browsers_MacroDom_μM11_hB0to1_030125  = AltSS_finder(scenario = 'browser')\n",
    "\n",
    "Browsers_MacroDom_μM11_hB0to1_030125[0].to_pickle('/Users/gails/Desktop/Team Sediment/Chapter 1 - Theory/Current Analyses/timeseries_Browsers_MacroDom_μM11_hB0to1_030125')\n",
    "Browsers_MacroDom_μM11_hB0to1_030125[1].to_pickle('/Users/gails/Desktop/Team Sediment/Chapter 1 - Theory/Current Analyses/equilibria_Browsers_MacroDom_μM11_hB0to1_030125')\n",
    "\n",
    "end_time = time.perf_counter()\n",
    "(end_time - start_time)/60"
   ]
  },
  {
   "cell_type": "markdown",
   "id": "e2744710",
   "metadata": {},
   "source": [
    "#### CoralDom (μM=13)"
   ]
  },
  {
   "cell_type": "code",
   "execution_count": null,
   "id": "7358965e",
   "metadata": {},
   "outputs": [],
   "source": [
    "start_time = time.perf_counter()\n",
    "\n",
    "Browsers_CoralDom_μM13_hB0to1_030125  = AltSS_finder(scenario = 'browser')\n",
    "\n",
    "Browsers_CoralDom_μM13_hB0to1_030125[0].to_pickle('/Users/gails/Desktop/Team Sediment/Chapter 1 - Theory/Current Analyses/timeseries_Browsers_CoralDom_μM13_hB0to1_030125')\n",
    "Browsers_CoralDom_μM13_hB0to1_030125[1].to_pickle('/Users/gails/Desktop/Team Sediment/Chapter 1 - Theory/Current Analyses/equilibria_Browsers_CoralDom_μM13_hB0to1_030125')\n",
    "\n",
    "end_time = time.perf_counter()\n",
    "(end_time - start_time)/60"
   ]
  },
  {
   "cell_type": "code",
   "execution_count": null,
   "id": "d21232ba",
   "metadata": {},
   "outputs": [],
   "source": []
  },
  {
   "cell_type": "code",
   "execution_count": null,
   "id": "acc0cb85",
   "metadata": {},
   "outputs": [],
   "source": []
  },
  {
   "cell_type": "code",
   "execution_count": null,
   "id": "01315b2e",
   "metadata": {},
   "outputs": [],
   "source": []
  }
 ],
 "metadata": {
  "kernelspec": {
   "display_name": "Python 3 (ipykernel)",
   "language": "python",
   "name": "python3"
  },
  "language_info": {
   "codemirror_mode": {
    "name": "ipython",
    "version": 3
   },
   "file_extension": ".py",
   "mimetype": "text/x-python",
   "name": "python",
   "nbconvert_exporter": "python",
   "pygments_lexer": "ipython3",
   "version": "3.11.4"
  }
 },
 "nbformat": 4,
 "nbformat_minor": 5
}
